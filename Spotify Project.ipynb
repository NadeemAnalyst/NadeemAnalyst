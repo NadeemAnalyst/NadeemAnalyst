{
 "cells": [
  {
   "cell_type": "code",
   "execution_count": null,
   "id": "932edc15",
   "metadata": {},
   "outputs": [],
   "source": [
    "#This is a Project about Spotify Music app\n",
    "#firstly import all the important libraries pandas,numpy, matplotlib and seaborn.\n",
    "import pandas as pd\n",
    "import numpy as np\n",
    "import matplotlib.pyplot as plt\n",
    "import seaborn as sns"
   ]
  },
  {
   "cell_type": "code",
   "execution_count": null,
   "id": "60f27175",
   "metadata": {},
   "outputs": [],
   "source": [
    "# lets import file \"tracks.csv\" by using pandas function {\".read_csv('XXXX.csv')\"}\n",
    "#then {\".head()\" to get first 5 rows of the dataset}.\n",
    "df_tracks = pd.read_csv('tracks.csv')\n",
    "df_tracks.head()"
   ]
  },
  {
   "cell_type": "code",
   "execution_count": null,
   "id": "ba1013db",
   "metadata": {},
   "outputs": [],
   "source": [
    "#lets check null values in the data set before analysis.\n",
    "#To check null pandas function \"pd.isnull(df_tracks).sum()\"\n",
    "#here \".sum\" helps to get number nulls in each columns\n",
    "pd.isnull(df_tracks).sum()"
   ]
  },
  {
   "cell_type": "code",
   "execution_count": null,
   "id": "d6608307",
   "metadata": {},
   "outputs": [],
   "source": [
    "# so in the name cloumn we have 71 nulls, no nulls in the rest of columns.\n",
    "\n",
    "#lets check the no:of rows & columns of the dataset, thier types and memory uasge.\n",
    "#the function is \".info()\" which provides whole info about the dataset\n",
    "df_tracks.info()\n"
   ]
  },
  {
   "cell_type": "code",
   "execution_count": null,
   "id": "ac992e95",
   "metadata": {},
   "outputs": [],
   "source": [
    "#Lets find 10 least famous songs in Spotify\n",
    "#Lets create a new algorithm and use the pandas function \".sort_values('XXXXXX', ascending = True).head(15)\"\n",
    "#in the code i took \"ascending = True\" , to get 10 least famous songs form the \"popularity\" column\n",
    "#head(15) represents those 15 songs\n",
    "\n",
    "least_famous_song = df_tracks.sort_values('popularity', ascending = True).head(15)\n",
    "least_famous_song"
   ]
  },
  {
   "cell_type": "code",
   "execution_count": null,
   "id": "c9496b28",
   "metadata": {},
   "outputs": [],
   "source": [
    "#lets see the statstatistical values of the dataset\n",
    "#the pandas funstion to get statistics \".describe()\",\"transpose()\"\n",
    "df_tracks.describe().transpose()"
   ]
  },
  {
   "cell_type": "code",
   "execution_count": null,
   "id": "6c888131",
   "metadata": {},
   "outputs": [],
   "source": [
    "#lets get 15 most popular songs from the dataset.\n",
    "#Here i want 15 song which has popularity of >90, So i used pandas funstion \".query('popularity>90')\"\n",
    "#sort_value() to get top songs,where ascending is false\n",
    "\n",
    "most_famous_song = df_tracks.query('popularity>90', inplace = False).sort_values('popularity', ascending = False)\n",
    "most_famous_song[:15]"
   ]
  },
  {
   "cell_type": "code",
   "execution_count": null,
   "id": "b0d00512",
   "metadata": {},
   "outputs": [],
   "source": [
    "#lets set index to the dataset , My first column as \"Release date\".\n",
    "#The pandas function is \".set_index('column_name', inplace = True)\"\n",
    "#my index is must be in date time format \"pd.to_datetime()\" function is used.\n",
    "#.head() to get first 5 rows of the data set\n",
    "df_tracks.set_index(\"release_date\" , inplace = True)\n",
    "df_tracks.index = pd.to_datetime(df_tracks.index)\n",
    "df_tracks.head()"
   ]
  },
  {
   "cell_type": "code",
   "execution_count": null,
   "id": "7242fdb4",
   "metadata": {},
   "outputs": [],
   "source": [
    "#If we want to check 39th artist of the dataset.\n",
    "#here I took artists column in [] brackets and used pandas function \".iloc[39]\" to locate the 39th artist in the dataset.\n",
    "df_tracks[['artists']].iloc[39]"
   ]
  },
  {
   "cell_type": "code",
   "execution_count": null,
   "id": "7ba5c29c",
   "metadata": {},
   "outputs": [],
   "source": [
    "#Convert the Duration of songs which are in Milliseconds into seconds,\n",
    "# i am using lamba function and dividing with 1000.\n",
    "df_tracks['duration'] = df_tracks[\"duration_ms\"].apply(lambda x: round(x/1000))\n",
    "df_tracks.drop('duration_ms', inplace = True, axis = 1)"
   ]
  },
  {
   "cell_type": "code",
   "execution_count": null,
   "id": "7ccc1ea6",
   "metadata": {},
   "outputs": [],
   "source": [
    "df_tracks.duration.head()"
   ]
  },
  {
   "cell_type": "code",
   "execution_count": null,
   "id": "20056158",
   "metadata": {},
   "outputs": [],
   "source": [
    "#Here we are going drop correlation map\n",
    "corr_df = df_tracks.drop([\"key\",\"mode\",\"explicit\"],axis = 1).corr(method = \"pearson\")\n",
    "plt.figure(figsize =(20,10))\n",
    "heatmap = sns.heatmap(corr_df,annot=True, fmt =\".1g\",vmin = -1,vmax = 1, center = 0, cmap =\"inferno\", linewidths = 1, linecolor = \"black\") \n",
    "heatmap.set_title(\"Correlation Heatmap Between Variable\")\n",
    "heatmap.set_xticklabels(heatmap.get_xticklabels(), rotation = 90)"
   ]
  },
  {
   "cell_type": "code",
   "execution_count": null,
   "id": "2b5515be",
   "metadata": {},
   "outputs": [],
   "source": [
    "#\n",
    "sample_df = df_tracks.sample(int(0.004*len(df_tracks)))\n",
    "print(len(sample_df))\n",
    "                             "
   ]
  },
  {
   "cell_type": "code",
   "execution_count": null,
   "id": "059ebfa1",
   "metadata": {},
   "outputs": [],
   "source": [
    "#\n",
    "plt.figure(figsize=(16,8))\n",
    "sns.regplot(data = sample_df, y = \"loudness\", x = \"energy\", color =\"g\").set(title = \"Loudness vs Energy\")"
   ]
  },
  {
   "cell_type": "code",
   "execution_count": null,
   "id": "ad691e4b",
   "metadata": {},
   "outputs": [],
   "source": [
    "plt.figure(figsize=(16,8))\n",
    "sns.regplot(data = sample_df, y = \"popularity\", x = \"acousticness\", color =\"r\").set(title = \"Popularity vs Acousticness\")"
   ]
  },
  {
   "cell_type": "code",
   "execution_count": null,
   "id": "51482bc2",
   "metadata": {},
   "outputs": [],
   "source": [
    "#Lets create a new column of \"year\" from \"release date\"\n",
    "\n",
    "df_tracks['dates'] = df_tracks.index.get_level_values('release_date')\n",
    "df_tracks.dates = pd.to_datetime(df_tracks.dates)\n",
    "years = df_tracks.dates.dt.year"
   ]
  },
  {
   "cell_type": "code",
   "execution_count": null,
   "id": "c5257ccd",
   "metadata": {},
   "outputs": [],
   "source": [
    "#lets create Histogram by using \".displot\" \n",
    "sns.displot(years, discrete = True,aspect = 2,height = 5,kind='hist').set(title ='Number of songs per year')\n"
   ]
  },
  {
   "cell_type": "code",
   "execution_count": null,
   "id": "84e30d9d",
   "metadata": {},
   "outputs": [],
   "source": [
    "# see the duration of songs over the years\n",
    "#lets create a Bar plot.\n",
    "total_dr = df_tracks.duration\n",
    "fig_dims = (18,7)\n",
    "fig,ax = plt.subplots(figsize =fig_dims)\n",
    "fig = sns.barplot(x = years, y = total_dr,ax = ax, errwidth = False).set(title = 'Year vs Duration')\n",
    "plt.xticks(rotation = 90)"
   ]
  },
  {
   "cell_type": "code",
   "execution_count": null,
   "id": "0ee4f217",
   "metadata": {},
   "outputs": [],
   "source": [
    "#create a line plot of Average duration of songs over the years.\n",
    "total_dr = df_tracks.duration\n",
    "sns.set_style(style = \"whitegrid\")\n",
    "fig_dims =(10,5)\n",
    "fig, ax = plt.subplots(figsize = fig_dims)\n",
    "fig = sns.lineplot(x = years, y =total_dr,ax = ax).set(title = 'Year vs Duration')\n",
    "plt.xticks(rotation = 60)"
   ]
  },
  {
   "cell_type": "code",
   "execution_count": null,
   "id": "ecf69539",
   "metadata": {},
   "outputs": [],
   "source": [
    "#Lets check our Next data set of Genres\n",
    "df_genre =pd.read_csv('SpotifyFeatures.csv')"
   ]
  },
  {
   "cell_type": "code",
   "execution_count": null,
   "id": "2a14deee",
   "metadata": {},
   "outputs": [],
   "source": [
    "df_genre.head()"
   ]
  },
  {
   "cell_type": "code",
   "execution_count": null,
   "id": "cc96ad7a",
   "metadata": {},
   "outputs": [],
   "source": [
    "#lets create Barplot by comparing Genre and Duration_ms in the given dataset.\n",
    "plt.title(\"Duration of the songs in different Genre\")\n",
    "sns.color_palette(\"rocket\",as_cmap =True)\n",
    "sns.barplot(y = \"genre\", x = \"duration_ms\", data = df_genre)\n",
    "plt.xlabel(\"Duration in Milliseconds\")\n",
    "plt.ylabel(\"Genre\")\n"
   ]
  },
  {
   "cell_type": "code",
   "execution_count": null,
   "id": "c9a8e735",
   "metadata": {},
   "outputs": [],
   "source": [
    "#Lets see the Top 5 Genres by Popularity\n",
    "sns.set_style(style = \"darkgrid\")\n",
    "plt.figure(figsize = (10,5))\n",
    "famous_Top5songs = df_genre.sort_values('popularity', ascending = False).head(10)\n",
    "sns.barplot(y = 'genre', x ='popularity', data = famous_Top5songs).set(title = \"Top 5 Genres by popularity\")\n"
   ]
  },
  {
   "cell_type": "code",
   "execution_count": null,
   "id": "64940103",
   "metadata": {},
   "outputs": [],
   "source": []
  },
  {
   "cell_type": "code",
   "execution_count": null,
   "id": "1454a72e",
   "metadata": {},
   "outputs": [],
   "source": []
  }
 ],
 "metadata": {
  "kernelspec": {
   "display_name": "Python 3 (ipykernel)",
   "language": "python",
   "name": "python3"
  },
  "language_info": {
   "codemirror_mode": {
    "name": "ipython",
    "version": 3
   },
   "file_extension": ".py",
   "mimetype": "text/x-python",
   "name": "python",
   "nbconvert_exporter": "python",
   "pygments_lexer": "ipython3",
   "version": "3.9.7"
  }
 },
 "nbformat": 4,
 "nbformat_minor": 5
}
