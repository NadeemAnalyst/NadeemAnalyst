{
 "cells": [
  {
   "cell_type": "code",
   "execution_count": 3,
   "id": "5da70cc8",
   "metadata": {},
   "outputs": [],
   "source": [
    "import pandas as pd\n",
    "import numpy as np\n",
    "import matplotlib.pyplot as plt\n",
    "%matplotlib inline\n",
    "import seaborn as sns"
   ]
  },
  {
   "cell_type": "code",
   "execution_count": 39,
   "id": "fb01da96",
   "metadata": {},
   "outputs": [
    {
     "data": {
      "text/html": [
       "<div>\n",
       "<style scoped>\n",
       "    .dataframe tbody tr th:only-of-type {\n",
       "        vertical-align: middle;\n",
       "    }\n",
       "\n",
       "    .dataframe tbody tr th {\n",
       "        vertical-align: top;\n",
       "    }\n",
       "\n",
       "    .dataframe thead th {\n",
       "        text-align: right;\n",
       "    }\n",
       "</style>\n",
       "<table border=\"1\" class=\"dataframe\">\n",
       "  <thead>\n",
       "    <tr style=\"text-align: right;\">\n",
       "      <th></th>\n",
       "      <th>Movie Name</th>\n",
       "      <th>Language</th>\n",
       "      <th>IMDb Rating</th>\n",
       "      <th>Running Time</th>\n",
       "      <th>Year of Release</th>\n",
       "      <th>Maturity Rating</th>\n",
       "    </tr>\n",
       "  </thead>\n",
       "  <tbody>\n",
       "    <tr>\n",
       "      <th>0</th>\n",
       "      <td>John Rambo</td>\n",
       "      <td>Tamil</td>\n",
       "      <td>7.0</td>\n",
       "      <td>1 h 26 min</td>\n",
       "      <td>2008</td>\n",
       "      <td>18+</td>\n",
       "    </tr>\n",
       "    <tr>\n",
       "      <th>1</th>\n",
       "      <td>American Pie</td>\n",
       "      <td>English</td>\n",
       "      <td>7.0</td>\n",
       "      <td>1 h 35 min</td>\n",
       "      <td>1999</td>\n",
       "      <td>18+</td>\n",
       "    </tr>\n",
       "    <tr>\n",
       "      <th>2</th>\n",
       "      <td>Bombshell</td>\n",
       "      <td>English</td>\n",
       "      <td>6.8</td>\n",
       "      <td>1 h 48 min</td>\n",
       "      <td>2019</td>\n",
       "      <td>18+</td>\n",
       "    </tr>\n",
       "    <tr>\n",
       "      <th>3</th>\n",
       "      <td>Love Birds</td>\n",
       "      <td>Tamil</td>\n",
       "      <td>5.1</td>\n",
       "      <td>2 h 40 min</td>\n",
       "      <td>1996</td>\n",
       "      <td>All</td>\n",
       "    </tr>\n",
       "    <tr>\n",
       "      <th>4</th>\n",
       "      <td>Hippi</td>\n",
       "      <td>Telugu</td>\n",
       "      <td>5.0</td>\n",
       "      <td>2 h 20 min</td>\n",
       "      <td>2019</td>\n",
       "      <td>18+</td>\n",
       "    </tr>\n",
       "  </tbody>\n",
       "</table>\n",
       "</div>"
      ],
      "text/plain": [
       "     Movie Name Language  IMDb Rating Running Time  Year of Release  \\\n",
       "0    John Rambo    Tamil          7.0   1 h 26 min             2008   \n",
       "1  American Pie  English          7.0   1 h 35 min             1999   \n",
       "2     Bombshell  English          6.8   1 h 48 min             2019   \n",
       "3    Love Birds    Tamil          5.1   2 h 40 min             1996   \n",
       "4         Hippi   Telugu          5.0   2 h 20 min             2019   \n",
       "\n",
       "  Maturity Rating  \n",
       "0             18+  \n",
       "1             18+  \n",
       "2             18+  \n",
       "3             All  \n",
       "4             18+  "
      ]
     },
     "execution_count": 39,
     "metadata": {},
     "output_type": "execute_result"
    }
   ],
   "source": [
    "df = pd.read_csv('amazon prime.csv')\n",
    "df.head()"
   ]
  },
  {
   "cell_type": "code",
   "execution_count": 40,
   "id": "a488e44a",
   "metadata": {},
   "outputs": [
    {
     "name": "stdout",
     "output_type": "stream",
     "text": [
      "<class 'pandas.core.frame.DataFrame'>\n",
      "RangeIndex: 8127 entries, 0 to 8126\n",
      "Data columns (total 6 columns):\n",
      " #   Column           Non-Null Count  Dtype  \n",
      "---  ------           --------------  -----  \n",
      " 0   Movie Name       8127 non-null   object \n",
      " 1   Language         8127 non-null   object \n",
      " 2   IMDb Rating      8127 non-null   float64\n",
      " 3   Running Time     8127 non-null   object \n",
      " 4   Year of Release  8127 non-null   int64  \n",
      " 5   Maturity Rating  8127 non-null   object \n",
      "dtypes: float64(1), int64(1), object(4)\n",
      "memory usage: 254.0+ KB\n"
     ]
    }
   ],
   "source": [
    "df.info()"
   ]
  },
  {
   "cell_type": "code",
   "execution_count": 41,
   "id": "0f60a904",
   "metadata": {},
   "outputs": [
    {
     "data": {
      "text/plain": [
       "Movie Name         0\n",
       "Language           0\n",
       "IMDb Rating        0\n",
       "Running Time       0\n",
       "Year of Release    0\n",
       "Maturity Rating    0\n",
       "dtype: int64"
      ]
     },
     "execution_count": 41,
     "metadata": {},
     "output_type": "execute_result"
    }
   ],
   "source": [
    "df.isnull().sum()"
   ]
  },
  {
   "cell_type": "code",
   "execution_count": 42,
   "id": "e760f26f",
   "metadata": {},
   "outputs": [
    {
     "data": {
      "text/html": [
       "<div>\n",
       "<style scoped>\n",
       "    .dataframe tbody tr th:only-of-type {\n",
       "        vertical-align: middle;\n",
       "    }\n",
       "\n",
       "    .dataframe tbody tr th {\n",
       "        vertical-align: top;\n",
       "    }\n",
       "\n",
       "    .dataframe thead th {\n",
       "        text-align: right;\n",
       "    }\n",
       "</style>\n",
       "<table border=\"1\" class=\"dataframe\">\n",
       "  <thead>\n",
       "    <tr style=\"text-align: right;\">\n",
       "      <th></th>\n",
       "      <th>IMDb Rating</th>\n",
       "      <th>Year of Release</th>\n",
       "    </tr>\n",
       "  </thead>\n",
       "  <tbody>\n",
       "    <tr>\n",
       "      <th>count</th>\n",
       "      <td>8127.000000</td>\n",
       "      <td>8127.000000</td>\n",
       "    </tr>\n",
       "    <tr>\n",
       "      <th>mean</th>\n",
       "      <td>5.955297</td>\n",
       "      <td>2007.350314</td>\n",
       "    </tr>\n",
       "    <tr>\n",
       "      <th>std</th>\n",
       "      <td>1.235531</td>\n",
       "      <td>13.274334</td>\n",
       "    </tr>\n",
       "    <tr>\n",
       "      <th>min</th>\n",
       "      <td>1.400000</td>\n",
       "      <td>1952.000000</td>\n",
       "    </tr>\n",
       "    <tr>\n",
       "      <th>25%</th>\n",
       "      <td>5.000000</td>\n",
       "      <td>2000.000000</td>\n",
       "    </tr>\n",
       "    <tr>\n",
       "      <th>50%</th>\n",
       "      <td>5.800000</td>\n",
       "      <td>2013.000000</td>\n",
       "    </tr>\n",
       "    <tr>\n",
       "      <th>75%</th>\n",
       "      <td>6.900000</td>\n",
       "      <td>2017.000000</td>\n",
       "    </tr>\n",
       "    <tr>\n",
       "      <th>max</th>\n",
       "      <td>9.500000</td>\n",
       "      <td>2021.000000</td>\n",
       "    </tr>\n",
       "  </tbody>\n",
       "</table>\n",
       "</div>"
      ],
      "text/plain": [
       "       IMDb Rating  Year of Release\n",
       "count  8127.000000      8127.000000\n",
       "mean      5.955297      2007.350314\n",
       "std       1.235531        13.274334\n",
       "min       1.400000      1952.000000\n",
       "25%       5.000000      2000.000000\n",
       "50%       5.800000      2013.000000\n",
       "75%       6.900000      2017.000000\n",
       "max       9.500000      2021.000000"
      ]
     },
     "execution_count": 42,
     "metadata": {},
     "output_type": "execute_result"
    }
   ],
   "source": [
    "df.describe()"
   ]
  },
  {
   "cell_type": "code",
   "execution_count": 43,
   "id": "fe0c55d3",
   "metadata": {},
   "outputs": [
    {
     "data": {
      "text/plain": [
       "(8127, 6)"
      ]
     },
     "execution_count": 43,
     "metadata": {},
     "output_type": "execute_result"
    }
   ],
   "source": [
    "df.shape"
   ]
  },
  {
   "cell_type": "code",
   "execution_count": 44,
   "id": "2b94bda4",
   "metadata": {},
   "outputs": [
    {
     "data": {
      "text/html": [
       "<div>\n",
       "<style scoped>\n",
       "    .dataframe tbody tr th:only-of-type {\n",
       "        vertical-align: middle;\n",
       "    }\n",
       "\n",
       "    .dataframe tbody tr th {\n",
       "        vertical-align: top;\n",
       "    }\n",
       "\n",
       "    .dataframe thead th {\n",
       "        text-align: right;\n",
       "    }\n",
       "</style>\n",
       "<table border=\"1\" class=\"dataframe\">\n",
       "  <thead>\n",
       "    <tr style=\"text-align: right;\">\n",
       "      <th></th>\n",
       "      <th>index</th>\n",
       "      <th>Language</th>\n",
       "    </tr>\n",
       "  </thead>\n",
       "  <tbody>\n",
       "    <tr>\n",
       "      <th>0</th>\n",
       "      <td>Hindi</td>\n",
       "      <td>1982</td>\n",
       "    </tr>\n",
       "    <tr>\n",
       "      <th>1</th>\n",
       "      <td>English</td>\n",
       "      <td>1699</td>\n",
       "    </tr>\n",
       "    <tr>\n",
       "      <th>2</th>\n",
       "      <td>Bengali</td>\n",
       "      <td>1201</td>\n",
       "    </tr>\n",
       "    <tr>\n",
       "      <th>3</th>\n",
       "      <td>Telugu</td>\n",
       "      <td>987</td>\n",
       "    </tr>\n",
       "    <tr>\n",
       "      <th>4</th>\n",
       "      <td>Tamil</td>\n",
       "      <td>721</td>\n",
       "    </tr>\n",
       "    <tr>\n",
       "      <th>5</th>\n",
       "      <td>Malayalam</td>\n",
       "      <td>518</td>\n",
       "    </tr>\n",
       "    <tr>\n",
       "      <th>6</th>\n",
       "      <td>Kannada</td>\n",
       "      <td>419</td>\n",
       "    </tr>\n",
       "    <tr>\n",
       "      <th>7</th>\n",
       "      <td>Marathi</td>\n",
       "      <td>353</td>\n",
       "    </tr>\n",
       "    <tr>\n",
       "      <th>8</th>\n",
       "      <td>Punjabi</td>\n",
       "      <td>133</td>\n",
       "    </tr>\n",
       "    <tr>\n",
       "      <th>9</th>\n",
       "      <td>Gujarati</td>\n",
       "      <td>114</td>\n",
       "    </tr>\n",
       "  </tbody>\n",
       "</table>\n",
       "</div>"
      ],
      "text/plain": [
       "       index  Language\n",
       "0      Hindi      1982\n",
       "1    English      1699\n",
       "2    Bengali      1201\n",
       "3     Telugu       987\n",
       "4      Tamil       721\n",
       "5  Malayalam       518\n",
       "6    Kannada       419\n",
       "7    Marathi       353\n",
       "8    Punjabi       133\n",
       "9   Gujarati       114"
      ]
     },
     "execution_count": 44,
     "metadata": {},
     "output_type": "execute_result"
    }
   ],
   "source": [
    "#Total no:of movies in Amazon prime according to language\n",
    "count = df['Language'].value_counts().sort_values(ascending=False)\n",
    "count.reset_index()"
   ]
  },
  {
   "cell_type": "code",
   "execution_count": 45,
   "id": "9ae70f95",
   "metadata": {},
   "outputs": [
    {
     "data": {
      "text/plain": [
       "Text(0.5, 1.0, 'Total Count Of Movies In Different Languages')"
      ]
     },
     "execution_count": 45,
     "metadata": {},
     "output_type": "execute_result"
    },
    {
     "data": {
      "image/png": "[encoded data removed]",
      "text/plain": [
       "<Figure size 1296x432 with 1 Axes>"
      ]
     },
     "metadata": {
      "needs_background": "light"
     },
     "output_type": "display_data"
    }
   ],
   "source": [
    "count.plot(kind='bar', color= 'green',figsize=(18,6))\n",
    "plt.title(\"Total Count Of Movies In Different Languages\", fontsize=20,color='red')\n"
   ]
  },
  {
   "cell_type": "code",
   "execution_count": 46,
   "id": "1b517c0f",
   "metadata": {},
   "outputs": [
    {
     "data": {
      "text/html": [
       "<div>\n",
       "<style scoped>\n",
       "    .dataframe tbody tr th:only-of-type {\n",
       "        vertical-align: middle;\n",
       "    }\n",
       "\n",
       "    .dataframe tbody tr th {\n",
       "        vertical-align: top;\n",
       "    }\n",
       "\n",
       "    .dataframe thead th {\n",
       "        text-align: right;\n",
       "    }\n",
       "</style>\n",
       "<table border=\"1\" class=\"dataframe\">\n",
       "  <thead>\n",
       "    <tr style=\"text-align: right;\">\n",
       "      <th></th>\n",
       "      <th>index</th>\n",
       "      <th>Maturity Rating</th>\n",
       "    </tr>\n",
       "  </thead>\n",
       "  <tbody>\n",
       "    <tr>\n",
       "      <th>0</th>\n",
       "      <td>13+</td>\n",
       "      <td>2606</td>\n",
       "    </tr>\n",
       "    <tr>\n",
       "      <th>1</th>\n",
       "      <td>NR</td>\n",
       "      <td>2054</td>\n",
       "    </tr>\n",
       "    <tr>\n",
       "      <th>2</th>\n",
       "      <td>All</td>\n",
       "      <td>1762</td>\n",
       "    </tr>\n",
       "    <tr>\n",
       "      <th>3</th>\n",
       "      <td>18+</td>\n",
       "      <td>1138</td>\n",
       "    </tr>\n",
       "    <tr>\n",
       "      <th>4</th>\n",
       "      <td>16+</td>\n",
       "      <td>382</td>\n",
       "    </tr>\n",
       "    <tr>\n",
       "      <th>5</th>\n",
       "      <td>7+</td>\n",
       "      <td>185</td>\n",
       "    </tr>\n",
       "  </tbody>\n",
       "</table>\n",
       "</div>"
      ],
      "text/plain": [
       "  index  Maturity Rating\n",
       "0   13+             2606\n",
       "1    NR             2054\n",
       "2   All             1762\n",
       "3   18+             1138\n",
       "4   16+              382\n",
       "5    7+              185"
      ]
     },
     "execution_count": 46,
     "metadata": {},
     "output_type": "execute_result"
    }
   ],
   "source": [
    "count2 = df['Maturity Rating'].value_counts().sort_values(ascending=False)\n",
    "count2.reset_index()"
   ]
  },
  {
   "cell_type": "code",
   "execution_count": 54,
   "id": "f99da40e",
   "metadata": {},
   "outputs": [
    {
     "data": {
      "text/plain": [
       "([0, 1, 2, 3, 4, 5],\n",
       " [Text(0, 0, ''),\n",
       "  Text(0, 0, ''),\n",
       "  Text(0, 0, ''),\n",
       "  Text(0, 0, ''),\n",
       "  Text(0, 0, ''),\n",
       "  Text(0, 0, '')])"
      ]
     },
     "execution_count": 54,
     "metadata": {},
     "output_type": "execute_result"
    },
    {
     "data": {
      "image/png": "[encoded data removed]",
      "text/plain": [
       "<Figure size 1296x432 with 1 Axes>"
      ]
     },
     "metadata": {
      "needs_background": "light"
     },
     "output_type": "display_data"
    }
   ],
   "source": [
    "plt.figure(figsize=(18,6))\n",
    "sns.lineplot(data=count2, color='blue')\n",
    "plt.title('Total Count Of Movies In Maturity Rating', fontsize=20,color='green')\n",
    "plt.xticks(fontsize=13,color='black')"
   ]
  },
  {
   "cell_type": "code",
   "execution_count": 99,
   "id": "a3759782",
   "metadata": {},
   "outputs": [
    {
     "data": {
      "text/html": [
       "<div>\n",
       "<style scoped>\n",
       "    .dataframe tbody tr th:only-of-type {\n",
       "        vertical-align: middle;\n",
       "    }\n",
       "\n",
       "    .dataframe tbody tr th {\n",
       "        vertical-align: top;\n",
       "    }\n",
       "\n",
       "    .dataframe thead th {\n",
       "        text-align: right;\n",
       "    }\n",
       "</style>\n",
       "<table border=\"1\" class=\"dataframe\">\n",
       "  <thead>\n",
       "    <tr style=\"text-align: right;\">\n",
       "      <th></th>\n",
       "      <th>index</th>\n",
       "      <th>Year of Release</th>\n",
       "    </tr>\n",
       "  </thead>\n",
       "  <tbody>\n",
       "    <tr>\n",
       "      <th>0</th>\n",
       "      <td>2017</td>\n",
       "      <td>762</td>\n",
       "    </tr>\n",
       "    <tr>\n",
       "      <th>1</th>\n",
       "      <td>2019</td>\n",
       "      <td>730</td>\n",
       "    </tr>\n",
       "    <tr>\n",
       "      <th>2</th>\n",
       "      <td>2015</td>\n",
       "      <td>673</td>\n",
       "    </tr>\n",
       "    <tr>\n",
       "      <th>3</th>\n",
       "      <td>2018</td>\n",
       "      <td>579</td>\n",
       "    </tr>\n",
       "    <tr>\n",
       "      <th>4</th>\n",
       "      <td>2020</td>\n",
       "      <td>558</td>\n",
       "    </tr>\n",
       "    <tr>\n",
       "      <th>5</th>\n",
       "      <td>2016</td>\n",
       "      <td>362</td>\n",
       "    </tr>\n",
       "    <tr>\n",
       "      <th>6</th>\n",
       "      <td>2014</td>\n",
       "      <td>284</td>\n",
       "    </tr>\n",
       "    <tr>\n",
       "      <th>7</th>\n",
       "      <td>2013</td>\n",
       "      <td>282</td>\n",
       "    </tr>\n",
       "    <tr>\n",
       "      <th>8</th>\n",
       "      <td>2012</td>\n",
       "      <td>239</td>\n",
       "    </tr>\n",
       "    <tr>\n",
       "      <th>9</th>\n",
       "      <td>2011</td>\n",
       "      <td>205</td>\n",
       "    </tr>\n",
       "  </tbody>\n",
       "</table>\n",
       "</div>"
      ],
      "text/plain": [
       "   index  Year of Release\n",
       "0   2017              762\n",
       "1   2019              730\n",
       "2   2015              673\n",
       "3   2018              579\n",
       "4   2020              558\n",
       "5   2016              362\n",
       "6   2014              284\n",
       "7   2013              282\n",
       "8   2012              239\n",
       "9   2011              205"
      ]
     },
     "execution_count": 99,
     "metadata": {},
     "output_type": "execute_result"
    }
   ],
   "source": [
    "year = df['Year of Release'].value_counts().sort_values(ascending=False).head(10)\n",
    "year.reset_index()"
   ]
  },
  {
   "cell_type": "code",
   "execution_count": 97,
   "id": "30e32ecd",
   "metadata": {},
   "outputs": [
    {
     "data": {
      "text/plain": [
       "(array([2010., 2012., 2014., 2016., 2018., 2020., 2022.]),\n",
       " [Text(0, 0, ''),\n",
       "  Text(0, 0, ''),\n",
       "  Text(0, 0, ''),\n",
       "  Text(0, 0, ''),\n",
       "  Text(0, 0, ''),\n",
       "  Text(0, 0, ''),\n",
       "  Text(0, 0, '')])"
      ]
     },
     "execution_count": 97,
     "metadata": {},
     "output_type": "execute_result"
    },
    {
     "data": {
      "image/png": "[encoded data removed]",
      "text/plain": [
       "<Figure size 1296x432 with 1 Axes>"
      ]
     },
     "metadata": {
      "needs_background": "light"
     },
     "output_type": "display_data"
    }
   ],
   "source": [
    "plt.figure(figsize=(18,6))\n",
    "sns.lineplot(data=year, color='black')\n",
    "plt.title('Total Count Of Movies From Last Decade', fontsize=20,color='red')\n",
    "plt.xticks(fontsize=13)\n"
   ]
  },
  {
   "cell_type": "code",
   "execution_count": 73,
   "id": "d8325b2a",
   "metadata": {},
   "outputs": [
    {
     "data": {
      "text/html": [
       "<div>\n",
       "<style scoped>\n",
       "    .dataframe tbody tr th:only-of-type {\n",
       "        vertical-align: middle;\n",
       "    }\n",
       "\n",
       "    .dataframe tbody tr th {\n",
       "        vertical-align: top;\n",
       "    }\n",
       "\n",
       "    .dataframe thead th {\n",
       "        text-align: right;\n",
       "    }\n",
       "</style>\n",
       "<table border=\"1\" class=\"dataframe\">\n",
       "  <thead>\n",
       "    <tr style=\"text-align: right;\">\n",
       "      <th></th>\n",
       "      <th>index</th>\n",
       "      <th>Movie Name</th>\n",
       "      <th>Language</th>\n",
       "      <th>IMDb Rating</th>\n",
       "      <th>Running Time</th>\n",
       "      <th>Year of Release</th>\n",
       "      <th>Maturity Rating</th>\n",
       "    </tr>\n",
       "  </thead>\n",
       "  <tbody>\n",
       "    <tr>\n",
       "      <th>0</th>\n",
       "      <td>699</td>\n",
       "      <td>A Dark Room</td>\n",
       "      <td>English</td>\n",
       "      <td>9.4</td>\n",
       "      <td>52min</td>\n",
       "      <td>2020</td>\n",
       "      <td>13+</td>\n",
       "    </tr>\n",
       "    <tr>\n",
       "      <th>1</th>\n",
       "      <td>2906</td>\n",
       "      <td>Byomkesh Bakshi</td>\n",
       "      <td>Bengali</td>\n",
       "      <td>9.2</td>\n",
       "      <td>1 h 50 min</td>\n",
       "      <td>2017</td>\n",
       "      <td>13+</td>\n",
       "    </tr>\n",
       "    <tr>\n",
       "      <th>2</th>\n",
       "      <td>3416</td>\n",
       "      <td>Fan</td>\n",
       "      <td>Kannada</td>\n",
       "      <td>9.2</td>\n",
       "      <td>2 h 22 min</td>\n",
       "      <td>2019</td>\n",
       "      <td>13+</td>\n",
       "    </tr>\n",
       "    <tr>\n",
       "      <th>3</th>\n",
       "      <td>3583</td>\n",
       "      <td>Godfather</td>\n",
       "      <td>Malayalam</td>\n",
       "      <td>9.2</td>\n",
       "      <td>2 h 22 min</td>\n",
       "      <td>1991</td>\n",
       "      <td>NR</td>\n",
       "    </tr>\n",
       "    <tr>\n",
       "      <th>4</th>\n",
       "      <td>5046</td>\n",
       "      <td>Ranganayaki</td>\n",
       "      <td>Kannada</td>\n",
       "      <td>9.5</td>\n",
       "      <td>2 h 42 min</td>\n",
       "      <td>1981</td>\n",
       "      <td>NR</td>\n",
       "    </tr>\n",
       "    <tr>\n",
       "      <th>5</th>\n",
       "      <td>5230</td>\n",
       "      <td>Mayabazar</td>\n",
       "      <td>Telugu</td>\n",
       "      <td>9.1</td>\n",
       "      <td>2 h 55 min</td>\n",
       "      <td>2015</td>\n",
       "      <td>All</td>\n",
       "    </tr>\n",
       "    <tr>\n",
       "      <th>6</th>\n",
       "      <td>5416</td>\n",
       "      <td>The Caravan Film</td>\n",
       "      <td>English</td>\n",
       "      <td>9.4</td>\n",
       "      <td>1 h 45 min</td>\n",
       "      <td>2019</td>\n",
       "      <td>13+</td>\n",
       "    </tr>\n",
       "    <tr>\n",
       "      <th>7</th>\n",
       "      <td>5686</td>\n",
       "      <td>Mirza Ghalib</td>\n",
       "      <td>Hindi</td>\n",
       "      <td>9.4</td>\n",
       "      <td>2 h 18 min</td>\n",
       "      <td>2015</td>\n",
       "      <td>NR</td>\n",
       "    </tr>\n",
       "    <tr>\n",
       "      <th>8</th>\n",
       "      <td>5917</td>\n",
       "      <td>The Shawshank Redemption</td>\n",
       "      <td>English</td>\n",
       "      <td>9.3</td>\n",
       "      <td>2 h 22 min</td>\n",
       "      <td>1994</td>\n",
       "      <td>18+</td>\n",
       "    </tr>\n",
       "    <tr>\n",
       "      <th>9</th>\n",
       "      <td>6743</td>\n",
       "      <td>The Godfather</td>\n",
       "      <td>English</td>\n",
       "      <td>9.2</td>\n",
       "      <td>2 h 57 min</td>\n",
       "      <td>1972</td>\n",
       "      <td>18+</td>\n",
       "    </tr>\n",
       "  </tbody>\n",
       "</table>\n",
       "</div>"
      ],
      "text/plain": [
       "   index                Movie Name   Language  IMDb Rating Running Time  \\\n",
       "0    699               A Dark Room    English          9.4        52min   \n",
       "1   2906           Byomkesh Bakshi    Bengali          9.2   1 h 50 min   \n",
       "2   3416                       Fan    Kannada          9.2   2 h 22 min   \n",
       "3   3583                 Godfather  Malayalam          9.2   2 h 22 min   \n",
       "4   5046               Ranganayaki    Kannada          9.5   2 h 42 min   \n",
       "5   5230                 Mayabazar     Telugu          9.1   2 h 55 min   \n",
       "6   5416          The Caravan Film    English          9.4   1 h 45 min   \n",
       "7   5686              Mirza Ghalib      Hindi          9.4   2 h 18 min   \n",
       "8   5917  The Shawshank Redemption    English          9.3   2 h 22 min   \n",
       "9   6743             The Godfather    English          9.2   2 h 57 min   \n",
       "\n",
       "   Year of Release Maturity Rating  \n",
       "0             2020             13+  \n",
       "1             2017             13+  \n",
       "2             2019             13+  \n",
       "3             1991              NR  \n",
       "4             1981              NR  \n",
       "5             2015             All  \n",
       "6             2019             13+  \n",
       "7             2015              NR  \n",
       "8             1994             18+  \n",
       "9             1972             18+  "
      ]
     },
     "execution_count": 73,
     "metadata": {},
     "output_type": "execute_result"
    }
   ],
   "source": [
    "#Movies with >9 rating\n",
    "rate = df[df['IMDb Rating']>9]\n",
    "rate.reset_index()"
   ]
  },
  {
   "cell_type": "code",
   "execution_count": 78,
   "id": "2e5ba060",
   "metadata": {},
   "outputs": [
    {
     "data": {
      "text/plain": [
       "(array([0, 1, 2, 3, 4, 5, 6, 7, 8, 9]),\n",
       " [Text(0, 0, 'A Dark Room'),\n",
       "  Text(1, 0, 'Byomkesh Bakshi'),\n",
       "  Text(2, 0, 'Fan'),\n",
       "  Text(3, 0, 'Godfather'),\n",
       "  Text(4, 0, 'Ranganayaki'),\n",
       "  Text(5, 0, 'Mayabazar'),\n",
       "  Text(6, 0, 'The Caravan Film'),\n",
       "  Text(7, 0, 'Mirza Ghalib'),\n",
       "  Text(8, 0, 'The Shawshank Redemption'),\n",
       "  Text(9, 0, 'The Godfather')])"
      ]
     },
     "execution_count": 78,
     "metadata": {},
     "output_type": "execute_result"
    },
    {
     "data": {
      "image/png": "[encoded data removed]",
      "text/plain": [
       "<Figure size 1152x576 with 1 Axes>"
      ]
     },
     "metadata": {
      "needs_background": "light"
     },
     "output_type": "display_data"
    }
   ],
   "source": [
    "rate.plot(kind='bar',x='Movie Name',y='IMDb Rating', figsize=(16,8))\n",
    "plt.title('Movies With >9 Rating', fontsize=20,color='violet')\n",
    "plt.xticks(rotation=30,color='red',fontsize=13)"
   ]
  },
  {
   "cell_type": "code",
   "execution_count": 83,
   "id": "deae256f",
   "metadata": {},
   "outputs": [
    {
     "data": {
      "text/plain": [
       "IMDb Rating  Movie Name              \n",
       "9.1          Mayabazar                   1\n",
       "9.2          Byomkesh Bakshi             1\n",
       "             Fan                         1\n",
       "             Godfather                   1\n",
       "             The Godfather               1\n",
       "9.3          The Shawshank Redemption    1\n",
       "9.4          A Dark Room                 1\n",
       "             Mirza Ghalib                1\n",
       "             The Caravan Film            1\n",
       "9.5          Ranganayaki                 1\n",
       "Name: Language, dtype: int64"
      ]
     },
     "execution_count": 83,
     "metadata": {},
     "output_type": "execute_result"
    }
   ],
   "source": [
    "rate.groupby(['IMDb Rating','Movie Name'])['Language'].count()"
   ]
  },
  {
   "cell_type": "code",
   "execution_count": 85,
   "id": "1e29ffb9",
   "metadata": {},
   "outputs": [
    {
     "data": {
      "text/html": [
       "<div>\n",
       "<style scoped>\n",
       "    .dataframe tbody tr th:only-of-type {\n",
       "        vertical-align: middle;\n",
       "    }\n",
       "\n",
       "    .dataframe tbody tr th {\n",
       "        vertical-align: top;\n",
       "    }\n",
       "\n",
       "    .dataframe thead th {\n",
       "        text-align: right;\n",
       "    }\n",
       "</style>\n",
       "<table border=\"1\" class=\"dataframe\">\n",
       "  <thead>\n",
       "    <tr style=\"text-align: right;\">\n",
       "      <th></th>\n",
       "      <th>Movie Name</th>\n",
       "      <th>Language</th>\n",
       "      <th>IMDb Rating</th>\n",
       "      <th>Running Time</th>\n",
       "      <th>Year of Release</th>\n",
       "      <th>Maturity Rating</th>\n",
       "    </tr>\n",
       "  </thead>\n",
       "  <tbody>\n",
       "    <tr>\n",
       "      <th>19</th>\n",
       "      <td>Jaani Dushman: Ek Anokhi Kahani</td>\n",
       "      <td>Hindi</td>\n",
       "      <td>2.8</td>\n",
       "      <td>2 h 32 min</td>\n",
       "      <td>2002</td>\n",
       "      <td>13+</td>\n",
       "    </tr>\n",
       "    <tr>\n",
       "      <th>658</th>\n",
       "      <td>Thousand Oru Note Paranja Katha</td>\n",
       "      <td>Malayalam</td>\n",
       "      <td>2.0</td>\n",
       "      <td>2 h 9 min</td>\n",
       "      <td>2015</td>\n",
       "      <td>All</td>\n",
       "    </tr>\n",
       "    <tr>\n",
       "      <th>848</th>\n",
       "      <td>Sunayani</td>\n",
       "      <td>Bengali</td>\n",
       "      <td>2.8</td>\n",
       "      <td>1 h 45 min</td>\n",
       "      <td>1979</td>\n",
       "      <td>All</td>\n",
       "    </tr>\n",
       "    <tr>\n",
       "      <th>916</th>\n",
       "      <td>Tum</td>\n",
       "      <td>Hindi</td>\n",
       "      <td>2.4</td>\n",
       "      <td>2 h 21 min</td>\n",
       "      <td>2004</td>\n",
       "      <td>18+</td>\n",
       "    </tr>\n",
       "    <tr>\n",
       "      <th>935</th>\n",
       "      <td>Deewana Main Deewana</td>\n",
       "      <td>Hindi</td>\n",
       "      <td>2.4</td>\n",
       "      <td>1 h 47 min</td>\n",
       "      <td>2013</td>\n",
       "      <td>All</td>\n",
       "    </tr>\n",
       "    <tr>\n",
       "      <th>...</th>\n",
       "      <td>...</td>\n",
       "      <td>...</td>\n",
       "      <td>...</td>\n",
       "      <td>...</td>\n",
       "      <td>...</td>\n",
       "      <td>...</td>\n",
       "    </tr>\n",
       "    <tr>\n",
       "      <th>7679</th>\n",
       "      <td>Mangala Gowri</td>\n",
       "      <td>Telugu</td>\n",
       "      <td>1.9</td>\n",
       "      <td>2h</td>\n",
       "      <td>1980</td>\n",
       "      <td>NR</td>\n",
       "    </tr>\n",
       "    <tr>\n",
       "      <th>7765</th>\n",
       "      <td>Irandam Kuththu</td>\n",
       "      <td>Tamil</td>\n",
       "      <td>2.5</td>\n",
       "      <td>2 h 4 min</td>\n",
       "      <td>2020</td>\n",
       "      <td>18+</td>\n",
       "    </tr>\n",
       "    <tr>\n",
       "      <th>7937</th>\n",
       "      <td>Kolaiyuthir Kaalam</td>\n",
       "      <td>Tamil</td>\n",
       "      <td>2.7</td>\n",
       "      <td>1 h 48 min</td>\n",
       "      <td>2019</td>\n",
       "      <td>13+</td>\n",
       "    </tr>\n",
       "    <tr>\n",
       "      <th>7940</th>\n",
       "      <td>Mastizaade</td>\n",
       "      <td>Hindi</td>\n",
       "      <td>2.4</td>\n",
       "      <td>1 h 46 min</td>\n",
       "      <td>2016</td>\n",
       "      <td>18+</td>\n",
       "    </tr>\n",
       "    <tr>\n",
       "      <th>7978</th>\n",
       "      <td>Lovemakers</td>\n",
       "      <td>English</td>\n",
       "      <td>2.1</td>\n",
       "      <td>1 h 35 min</td>\n",
       "      <td>2011</td>\n",
       "      <td>13+</td>\n",
       "    </tr>\n",
       "  </tbody>\n",
       "</table>\n",
       "<p>88 rows × 6 columns</p>\n",
       "</div>"
      ],
      "text/plain": [
       "                           Movie Name   Language  IMDb Rating Running Time  \\\n",
       "19    Jaani Dushman: Ek Anokhi Kahani      Hindi          2.8   2 h 32 min   \n",
       "658   Thousand Oru Note Paranja Katha  Malayalam          2.0    2 h 9 min   \n",
       "848                          Sunayani    Bengali          2.8   1 h 45 min   \n",
       "916                               Tum      Hindi          2.4   2 h 21 min   \n",
       "935              Deewana Main Deewana      Hindi          2.4   1 h 47 min   \n",
       "...                               ...        ...          ...          ...   \n",
       "7679                    Mangala Gowri     Telugu          1.9           2h   \n",
       "7765                  Irandam Kuththu      Tamil          2.5    2 h 4 min   \n",
       "7937               Kolaiyuthir Kaalam      Tamil          2.7   1 h 48 min   \n",
       "7940                       Mastizaade      Hindi          2.4   1 h 46 min   \n",
       "7978                       Lovemakers    English          2.1   1 h 35 min   \n",
       "\n",
       "      Year of Release Maturity Rating  \n",
       "19               2002             13+  \n",
       "658              2015             All  \n",
       "848              1979             All  \n",
       "916              2004             18+  \n",
       "935              2013             All  \n",
       "...               ...             ...  \n",
       "7679             1980              NR  \n",
       "7765             2020             18+  \n",
       "7937             2019             13+  \n",
       "7940             2016             18+  \n",
       "7978             2011             13+  \n",
       "\n",
       "[88 rows x 6 columns]"
      ]
     },
     "execution_count": 85,
     "metadata": {},
     "output_type": "execute_result"
    }
   ],
   "source": [
    "less_rate = df[df['IMDb Rating']<=3]\n",
    "less_rate"
   ]
  },
  {
   "cell_type": "code",
   "execution_count": 89,
   "id": "8edf242d",
   "metadata": {},
   "outputs": [
    {
     "data": {
      "text/plain": [
       "IMDb Rating\n",
       "1.4     1\n",
       "1.5     1\n",
       "1.6     1\n",
       "1.7     1\n",
       "1.9     4\n",
       "2.0     4\n",
       "2.1     2\n",
       "2.2     5\n",
       "2.3     8\n",
       "2.4     9\n",
       "2.5     5\n",
       "2.6     6\n",
       "2.7     8\n",
       "2.8    12\n",
       "2.9    11\n",
       "3.0    10\n",
       "Name: Language, dtype: int64"
      ]
     },
     "execution_count": 89,
     "metadata": {},
     "output_type": "execute_result"
    }
   ],
   "source": [
    "#count of movies <3 imdb rating\n",
    "b = less_rate.groupby('IMDb Rating')['Language'].count()\n",
    "b"
   ]
  },
  {
   "cell_type": "code",
   "execution_count": 94,
   "id": "31f02bbc",
   "metadata": {},
   "outputs": [
    {
     "data": {
      "text/plain": [
       "(array([1.2, 1.4, 1.6, 1.8, 2. , 2.2, 2.4, 2.6, 2.8, 3. , 3.2]),\n",
       " [Text(0, 0, ''),\n",
       "  Text(0, 0, ''),\n",
       "  Text(0, 0, ''),\n",
       "  Text(0, 0, ''),\n",
       "  Text(0, 0, ''),\n",
       "  Text(0, 0, ''),\n",
       "  Text(0, 0, ''),\n",
       "  Text(0, 0, ''),\n",
       "  Text(0, 0, ''),\n",
       "  Text(0, 0, ''),\n",
       "  Text(0, 0, '')])"
      ]
     },
     "execution_count": 94,
     "metadata": {},
     "output_type": "execute_result"
    },
    {
     "data": {
      "image/png": "[encoded data removed]",
      "text/plain": [
       "<Figure size 1152x576 with 1 Axes>"
      ]
     },
     "metadata": {
      "needs_background": "light"
     },
     "output_type": "display_data"
    }
   ],
   "source": [
    "#Count Of Movies With <3 Imdb Rating\n",
    "b.plot(kind='line',figsize=(16,8))\n",
    "plt.title('Count Of Movies With <3 Imdb Rating',fontsize=20,color='green')\n",
    "plt.xticks(fontsize=13)"
   ]
  },
  {
   "cell_type": "code",
   "execution_count": 111,
   "id": "17261ec2",
   "metadata": {},
   "outputs": [
    {
     "data": {
      "text/plain": [
       "1138"
      ]
     },
     "execution_count": 111,
     "metadata": {},
     "output_type": "execute_result"
    }
   ],
   "source": [
    "#Count Of Movies which are 18+\n",
    "movie_18 = df[df['Maturity Rating'] =='18+']['Movie Name']\n",
    "movie_18.count()"
   ]
  },
  {
   "cell_type": "code",
   "execution_count": 112,
   "id": "8f2f8355",
   "metadata": {},
   "outputs": [
    {
     "data": {
      "text/plain": [
       "1762"
      ]
     },
     "execution_count": 112,
     "metadata": {},
     "output_type": "execute_result"
    }
   ],
   "source": [
    "movie_all = df[df['Maturity Rating'] =='All']['Movie Name']\n",
    "movie_all.count()"
   ]
  },
  {
   "cell_type": "code",
   "execution_count": null,
   "id": "aa985d72",
   "metadata": {},
   "outputs": [],
   "source": []
  }
 ],
 "metadata": {
  "kernelspec": {
   "display_name": "Python 3 (ipykernel)",
   "language": "python",
   "name": "python3"
  },
  "language_info": {
   "codemirror_mode": {
    "name": "ipython",
    "version": 3
   },
   "file_extension": ".py",
   "mimetype": "text/x-python",
   "name": "python",
   "nbconvert_exporter": "python",
   "pygments_lexer": "ipython3",
   "version": "3.9.7"
  }
 },
 "nbformat": 4,
 "nbformat_minor": 5
}
